{
 "cells": [
  {
   "cell_type": "code",
   "execution_count": 1,
   "metadata": {},
   "outputs": [],
   "source": [
    "import pandas as pd\n",
    "import xlwt\n",
    "\n",
    "#全部行都能输出\n",
    "from IPython.core.interactiveshell import InteractiveShell\n",
    "InteractiveShell.ast_node_interactivity = \"all\""
   ]
  },
  {
   "cell_type": "code",
   "execution_count": 9,
   "metadata": {},
   "outputs": [
    {
     "data": {
      "text/plain": [
       "'\\n基于RFM模型使用K-Means算法聚类航空客户消费行为特征数据\\n'"
      ]
     },
     "execution_count": 9,
     "metadata": {},
     "output_type": "execute_result"
    }
   ],
   "source": [
    "'''\n",
    "基于RFM模型使用K-Means算法聚类航空客户消费行为特征数据\n",
    "'''"
   ]
  },
  {
   "cell_type": "markdown",
   "metadata": {},
   "source": [
    "一、数据读取、清洗"
   ]
  },
  {
   "cell_type": "code",
   "execution_count": 3,
   "metadata": {},
   "outputs": [
    {
     "data": {
      "text/html": [
       "<div>\n",
       "<style scoped>\n",
       "    .dataframe tbody tr th:only-of-type {\n",
       "        vertical-align: middle;\n",
       "    }\n",
       "\n",
       "    .dataframe tbody tr th {\n",
       "        vertical-align: top;\n",
       "    }\n",
       "\n",
       "    .dataframe thead th {\n",
       "        text-align: right;\n",
       "    }\n",
       "</style>\n",
       "<table border=\"1\" class=\"dataframe\">\n",
       "  <thead>\n",
       "    <tr style=\"text-align: right;\">\n",
       "      <th></th>\n",
       "      <th>R</th>\n",
       "      <th>F</th>\n",
       "      <th>M</th>\n",
       "    </tr>\n",
       "    <tr>\n",
       "      <th>Id</th>\n",
       "      <th></th>\n",
       "      <th></th>\n",
       "      <th></th>\n",
       "    </tr>\n",
       "  </thead>\n",
       "  <tbody>\n",
       "    <tr>\n",
       "      <th>inuc001</th>\n",
       "      <td>21</td>\n",
       "      <td>17</td>\n",
       "      <td>1256.47</td>\n",
       "    </tr>\n",
       "    <tr>\n",
       "      <th>inuc002</th>\n",
       "      <td>1</td>\n",
       "      <td>19</td>\n",
       "      <td>1728.84</td>\n",
       "    </tr>\n",
       "    <tr>\n",
       "      <th>inuc003</th>\n",
       "      <td>8</td>\n",
       "      <td>4</td>\n",
       "      <td>617.83</td>\n",
       "    </tr>\n",
       "    <tr>\n",
       "      <th>inuc004</th>\n",
       "      <td>10</td>\n",
       "      <td>9</td>\n",
       "      <td>1380.94</td>\n",
       "    </tr>\n",
       "    <tr>\n",
       "      <th>inuc005</th>\n",
       "      <td>4</td>\n",
       "      <td>3</td>\n",
       "      <td>1783.68</td>\n",
       "    </tr>\n",
       "  </tbody>\n",
       "</table>\n",
       "</div>"
      ],
      "text/plain": [
       "          R   F        M\n",
       "Id                      \n",
       "inuc001  21  17  1256.47\n",
       "inuc002   1  19  1728.84\n",
       "inuc003   8   4   617.83\n",
       "inuc004  10   9  1380.94\n",
       "inuc005   4   3  1783.68"
      ]
     },
     "execution_count": 3,
     "metadata": {},
     "output_type": "execute_result"
    }
   ],
   "source": [
    "data=pd.read_excel(r'i_nuc.xls',index_col='Id',sheet_name='Sheet2')\n",
    "data.head()"
   ]
  },
  {
   "cell_type": "code",
   "execution_count": 4,
   "metadata": {},
   "outputs": [],
   "source": [
    "#保存结果的文件名\n",
    "outputfile = r'hangkong.xls'"
   ]
  },
  {
   "cell_type": "code",
   "execution_count": 5,
   "metadata": {},
   "outputs": [],
   "source": [
    "k=3 #聚类的类别\n",
    "iteration=1000 #聚类最大循环次数\n"
   ]
  },
  {
   "cell_type": "markdown",
   "metadata": {},
   "source": [
    "二、标准化处理"
   ]
  },
  {
   "cell_type": "code",
   "execution_count": 6,
   "metadata": {},
   "outputs": [],
   "source": [
    "biaozhunhua=r'biaozhunhua.xls'\n",
    "data_bzh=1.0*(data-data.mean())/data.std()  #数据标准化\n",
    "data_bzh.to_excel(biaozhunhua,index=False)  #数据写入备用"
   ]
  },
  {
   "cell_type": "markdown",
   "metadata": {},
   "source": [
    "三、使用K-Means算法聚类消费行为特征数据，并导出各自类别的概率密度图"
   ]
  },
  {
   "cell_type": "code",
   "execution_count": 8,
   "metadata": {},
   "outputs": [
    {
     "data": {
      "text/plain": [
       "KMeans(algorithm='auto', copy_x=True, init='k-means++', max_iter=1000,\n",
       "    n_clusters=3, n_init=10, n_jobs=None, precompute_distances='auto',\n",
       "    random_state=None, tol=0.0001, verbose=0)"
      ]
     },
     "execution_count": 8,
     "metadata": {},
     "output_type": "execute_result"
    }
   ],
   "source": [
    "from sklearn.cluster import KMeans \n",
    "model = KMeans(n_clusters=3,max_iter=iteration)\n",
    "model.fit(data_bzh)  #开始聚类"
   ]
  },
  {
   "cell_type": "code",
   "execution_count": 10,
   "metadata": {
    "collapsed": true
   },
   "outputs": [
    {
     "data": {
      "text/plain": [
       "array([2, 2, 0, 0, 0, 0, 0, 2, 0, 0, 0, 0, 0, 0, 0, 0, 2, 2, 0, 2, 2, 0,\n",
       "       0, 2, 0, 0, 0, 0, 0, 0, 2, 0, 0, 2, 2, 0, 2, 1, 0, 0, 0, 0, 0, 2,\n",
       "       0, 0, 2, 0, 2, 0, 1, 2, 0, 0, 2, 2, 2, 0, 0, 2, 0, 0, 2, 0, 0, 2,\n",
       "       0, 0, 0, 2, 2, 0, 2, 2, 2, 0, 0, 0, 1, 0, 0, 0, 2, 2, 0, 2, 0, 0,\n",
       "       0, 0, 0, 2, 2, 0, 0, 2, 0, 1, 2, 2, 0, 0, 0, 0, 0, 0, 2, 2, 0, 0,\n",
       "       2, 1, 0, 2, 2, 0, 0, 2, 0, 2, 2, 0, 0, 1, 2, 2, 0, 0, 2, 2, 0, 0,\n",
       "       2, 0, 0, 0, 1, 0, 0, 1, 2, 0, 0, 0, 0, 0, 0, 0, 0, 0, 1, 0, 0, 0,\n",
       "       0, 0, 0, 0, 0, 1, 0, 0, 0, 0, 2, 0, 0, 0, 0, 2, 0, 2, 0, 2, 0, 0,\n",
       "       0, 0, 0, 2, 2, 0, 2, 0, 0, 0, 0, 0, 0, 2, 0, 2, 2, 2, 2, 0, 0, 0,\n",
       "       0, 2, 0, 2, 0, 0, 0, 0, 2, 0, 0, 2, 0, 0, 2, 1, 0, 0, 0, 0, 0, 0,\n",
       "       0, 0, 0, 0, 0, 0, 0, 0, 0, 0, 0, 0, 0, 2, 2, 0, 0, 0, 0, 2, 0, 0,\n",
       "       2, 0, 0, 0, 1, 0, 0, 0, 2, 0, 0, 0, 0, 0, 0, 1, 0, 0, 0, 0, 0, 0,\n",
       "       2, 0, 0, 0, 0, 0, 2, 2, 2, 0, 0, 1, 1, 0, 0, 2, 0, 0, 2, 0, 0, 2,\n",
       "       0, 2, 0, 1, 0, 0, 0, 0, 2, 2, 2, 0, 2, 0, 0, 0, 1, 0, 0, 0, 0, 2,\n",
       "       2, 0, 0, 2, 0, 0, 0, 0, 0, 0, 1, 0, 1, 2, 2, 0, 2, 0, 0, 0, 0, 2,\n",
       "       0, 0, 2, 0, 0, 0, 0, 2, 1, 2, 2, 0, 0, 0, 2, 2, 2, 0, 0, 0, 0, 0,\n",
       "       2, 1, 0, 2, 2, 0, 2, 2, 2, 0, 0, 0, 0, 2, 0, 0, 0, 0, 2, 0, 0, 0,\n",
       "       2, 0, 2, 1, 2, 2, 0, 0, 2, 2, 0, 2, 0, 0, 2, 0, 0, 0, 2, 2, 2, 0,\n",
       "       0, 2, 0, 1, 2, 0, 2, 0, 2, 0, 0, 0, 0, 0, 0, 2, 0, 2, 2, 0, 2, 0,\n",
       "       2, 2, 1, 2, 2, 2, 0, 2, 2, 2, 2, 0, 2, 0, 2, 2, 0, 2, 2, 2, 0, 1,\n",
       "       0, 0, 2, 0, 2, 2, 0, 0, 2, 2, 2, 0, 0, 0, 2, 2, 2, 2, 0, 2, 0, 2,\n",
       "       2, 0, 2, 0, 0, 0, 0, 2, 0, 0, 0, 0, 2, 0, 0, 0, 2, 2, 0, 2, 0, 2,\n",
       "       0, 2, 2, 2, 0, 2, 2, 2, 2, 0, 0, 2, 0, 2, 0, 2, 2, 0, 2, 2, 2, 0,\n",
       "       0, 0, 0, 0, 0, 0, 2, 2, 2, 2, 0, 0, 2, 0, 2, 0, 2, 0, 0, 0, 0, 0,\n",
       "       2, 0, 2, 2, 0, 2, 2, 0, 2, 0, 2, 0, 0, 0, 0, 2, 2, 2, 1, 0, 0, 0,\n",
       "       0, 2, 0, 2, 2, 0, 0, 0, 2, 2, 2, 2, 2, 2, 0, 2, 2, 0, 2, 0, 2, 0,\n",
       "       0, 2, 0, 0, 2, 0, 2, 1, 0, 2, 0, 0, 0, 2, 0, 0, 2, 2, 0, 2, 2, 2,\n",
       "       0, 2, 0, 2, 2, 0, 2, 0, 2, 0, 0, 0, 2, 0, 0, 0, 2, 0, 0, 0, 2, 2,\n",
       "       0, 2, 2, 0, 2, 2, 0, 0, 0, 0, 0, 2, 0, 2, 0, 0, 1, 0, 0, 0, 0, 0,\n",
       "       0, 0, 2, 0, 0, 2, 2, 0, 1, 0, 0, 0, 2, 2, 2, 0, 0, 2, 2, 2, 0, 0,\n",
       "       0, 1, 2, 2, 2, 0, 0, 0, 0, 0, 2, 0, 2, 0, 1, 2, 2, 0, 0, 2, 0, 0,\n",
       "       0, 0, 2, 0, 2, 2, 2, 0, 1, 2, 2, 2, 0, 2, 0, 0, 2, 2, 0, 0, 0, 2,\n",
       "       0, 2, 0, 0, 0, 0, 0, 2, 0, 0, 2, 0, 2, 0, 0, 0, 0, 1, 2, 2, 0, 0,\n",
       "       2, 0, 2, 0, 0, 2, 0, 0, 0, 2, 2, 0, 0, 0, 0, 1, 2, 2, 0, 0, 0, 0,\n",
       "       2, 2, 0, 2, 0, 0, 2, 2, 0, 0, 1, 0, 0, 0, 0, 2, 0, 0, 0, 0, 0, 0,\n",
       "       0, 0, 0, 2, 2, 2, 2, 0, 2, 0, 2, 2, 2, 2, 0, 0, 2, 0, 2, 2, 2, 2,\n",
       "       0, 0, 2, 2, 0, 0, 2, 0, 2, 2, 0, 0, 0, 0, 0, 0, 2, 0, 2, 0, 1, 0,\n",
       "       1, 2, 0, 2, 0, 2, 2, 2, 2, 0, 2, 2, 2, 2, 0, 2, 0, 0, 0, 0, 0, 0,\n",
       "       0, 2, 2, 2, 0, 0, 2, 2, 0, 0, 2, 0, 2, 0, 2, 0, 2, 0, 0, 2, 0, 0,\n",
       "       2, 0, 2, 2, 0, 0, 2, 0, 2, 2, 2, 0, 0, 2, 2, 1, 2, 2, 2, 2, 2, 0,\n",
       "       0, 1, 2, 2, 2, 0, 0, 2, 0, 0, 2, 2, 2, 0, 0, 2, 0, 2, 0, 1],\n",
       "      dtype=int32)"
      ]
     },
     "execution_count": 10,
     "metadata": {},
     "output_type": "execute_result"
    }
   ],
   "source": [
    "model.labels_"
   ]
  },
  {
   "cell_type": "code",
   "execution_count": 11,
   "metadata": {},
   "outputs": [
    {
     "data": {
      "text/plain": [
       "array([[-0.16983711, -0.67328576, -0.30300919],\n",
       "       [ 3.40563959, -0.29514754,  0.48760441],\n",
       "       [-0.14091261,  1.0644544 ,  0.40606059]])"
      ]
     },
     "execution_count": 11,
     "metadata": {},
     "output_type": "execute_result"
    }
   ],
   "source": [
    "model.cluster_centers_"
   ]
  },
  {
   "cell_type": "code",
   "execution_count": 13,
   "metadata": {},
   "outputs": [
    {
     "data": {
      "text/html": [
       "<div>\n",
       "<style scoped>\n",
       "    .dataframe tbody tr th:only-of-type {\n",
       "        vertical-align: middle;\n",
       "    }\n",
       "\n",
       "    .dataframe tbody tr th {\n",
       "        vertical-align: top;\n",
       "    }\n",
       "\n",
       "    .dataframe thead th {\n",
       "        text-align: right;\n",
       "    }\n",
       "</style>\n",
       "<table border=\"1\" class=\"dataframe\">\n",
       "  <thead>\n",
       "    <tr style=\"text-align: right;\">\n",
       "      <th></th>\n",
       "      <th>0</th>\n",
       "      <th>1</th>\n",
       "      <th>2</th>\n",
       "      <th>0</th>\n",
       "    </tr>\n",
       "  </thead>\n",
       "  <tbody>\n",
       "    <tr>\n",
       "      <th>0</th>\n",
       "      <td>-0.169837</td>\n",
       "      <td>-0.673286</td>\n",
       "      <td>-0.303009</td>\n",
       "      <td>520</td>\n",
       "    </tr>\n",
       "    <tr>\n",
       "      <th>1</th>\n",
       "      <td>3.405640</td>\n",
       "      <td>-0.295148</td>\n",
       "      <td>0.487604</td>\n",
       "      <td>40</td>\n",
       "    </tr>\n",
       "    <tr>\n",
       "      <th>2</th>\n",
       "      <td>-0.140913</td>\n",
       "      <td>1.064454</td>\n",
       "      <td>0.406061</td>\n",
       "      <td>340</td>\n",
       "    </tr>\n",
       "  </tbody>\n",
       "</table>\n",
       "</div>"
      ],
      "text/plain": [
       "          0         1         2    0\n",
       "0 -0.169837 -0.673286 -0.303009  520\n",
       "1  3.405640 -0.295148  0.487604   40\n",
       "2 -0.140913  1.064454  0.406061  340"
      ]
     },
     "execution_count": 13,
     "metadata": {},
     "output_type": "execute_result"
    },
    {
     "data": {
      "text/html": [
       "<div>\n",
       "<style scoped>\n",
       "    .dataframe tbody tr th:only-of-type {\n",
       "        vertical-align: middle;\n",
       "    }\n",
       "\n",
       "    .dataframe tbody tr th {\n",
       "        vertical-align: top;\n",
       "    }\n",
       "\n",
       "    .dataframe thead th {\n",
       "        text-align: right;\n",
       "    }\n",
       "</style>\n",
       "<table border=\"1\" class=\"dataframe\">\n",
       "  <thead>\n",
       "    <tr style=\"text-align: right;\">\n",
       "      <th></th>\n",
       "      <th>R</th>\n",
       "      <th>F</th>\n",
       "      <th>M</th>\n",
       "      <th>聚类数目</th>\n",
       "    </tr>\n",
       "  </thead>\n",
       "  <tbody>\n",
       "    <tr>\n",
       "      <th>0</th>\n",
       "      <td>-0.169837</td>\n",
       "      <td>-0.673286</td>\n",
       "      <td>-0.303009</td>\n",
       "      <td>520</td>\n",
       "    </tr>\n",
       "    <tr>\n",
       "      <th>1</th>\n",
       "      <td>3.405640</td>\n",
       "      <td>-0.295148</td>\n",
       "      <td>0.487604</td>\n",
       "      <td>40</td>\n",
       "    </tr>\n",
       "    <tr>\n",
       "      <th>2</th>\n",
       "      <td>-0.140913</td>\n",
       "      <td>1.064454</td>\n",
       "      <td>0.406061</td>\n",
       "      <td>340</td>\n",
       "    </tr>\n",
       "  </tbody>\n",
       "</table>\n",
       "</div>"
      ],
      "text/plain": [
       "          R         F         M  聚类数目\n",
       "0 -0.169837 -0.673286 -0.303009   520\n",
       "1  3.405640 -0.295148  0.487604    40\n",
       "2 -0.140913  1.064454  0.406061   340"
      ]
     },
     "execution_count": 13,
     "metadata": {},
     "output_type": "execute_result"
    }
   ],
   "source": [
    "#简单打印结果\n",
    "r1=pd.Series(model.labels_).value_counts() #统计各个类别的数目\n",
    "r2=pd.DataFrame(model.cluster_centers_)    #找出聚类中心\n",
    "r= pd.concat([r2,r1],axis=1)        #横向连接，0是纵向，得到聚类中心对应类别下的数目\n",
    "\n",
    "r\n",
    "r.columns=list(data.columns)+[u'聚类数目']   #重命名表头\n",
    "r"
   ]
  },
  {
   "cell_type": "code",
   "execution_count": 12,
   "metadata": {},
   "outputs": [
    {
     "data": {
      "text/plain": [
       "['R', 'F', 'M']"
      ]
     },
     "execution_count": 12,
     "metadata": {},
     "output_type": "execute_result"
    }
   ],
   "source": [
    "list(data.columns)"
   ]
  },
  {
   "cell_type": "code",
   "execution_count": 14,
   "metadata": {
    "scrolled": true
   },
   "outputs": [
    {
     "data": {
      "text/html": [
       "<div>\n",
       "<style scoped>\n",
       "    .dataframe tbody tr th:only-of-type {\n",
       "        vertical-align: middle;\n",
       "    }\n",
       "\n",
       "    .dataframe tbody tr th {\n",
       "        vertical-align: top;\n",
       "    }\n",
       "\n",
       "    .dataframe thead th {\n",
       "        text-align: right;\n",
       "    }\n",
       "</style>\n",
       "<table border=\"1\" class=\"dataframe\">\n",
       "  <thead>\n",
       "    <tr style=\"text-align: right;\">\n",
       "      <th></th>\n",
       "      <th>R</th>\n",
       "      <th>F</th>\n",
       "      <th>M</th>\n",
       "    </tr>\n",
       "    <tr>\n",
       "      <th>Id</th>\n",
       "      <th></th>\n",
       "      <th></th>\n",
       "      <th></th>\n",
       "    </tr>\n",
       "  </thead>\n",
       "  <tbody>\n",
       "    <tr>\n",
       "      <th>inuc001</th>\n",
       "      <td>21</td>\n",
       "      <td>17</td>\n",
       "      <td>1256.47</td>\n",
       "    </tr>\n",
       "    <tr>\n",
       "      <th>inuc002</th>\n",
       "      <td>1</td>\n",
       "      <td>19</td>\n",
       "      <td>1728.84</td>\n",
       "    </tr>\n",
       "    <tr>\n",
       "      <th>inuc003</th>\n",
       "      <td>8</td>\n",
       "      <td>4</td>\n",
       "      <td>617.83</td>\n",
       "    </tr>\n",
       "    <tr>\n",
       "      <th>inuc004</th>\n",
       "      <td>10</td>\n",
       "      <td>9</td>\n",
       "      <td>1380.94</td>\n",
       "    </tr>\n",
       "    <tr>\n",
       "      <th>inuc005</th>\n",
       "      <td>4</td>\n",
       "      <td>3</td>\n",
       "      <td>1783.68</td>\n",
       "    </tr>\n",
       "  </tbody>\n",
       "</table>\n",
       "</div>"
      ],
      "text/plain": [
       "          R   F        M\n",
       "Id                      \n",
       "inuc001  21  17  1256.47\n",
       "inuc002   1  19  1728.84\n",
       "inuc003   8   4   617.83\n",
       "inuc004  10   9  1380.94\n",
       "inuc005   4   3  1783.68"
      ]
     },
     "execution_count": 14,
     "metadata": {},
     "output_type": "execute_result"
    },
    {
     "data": {
      "text/plain": [
       "array([2, 2, 0, 0, 0, 0, 0, 2, 0, 0, 0, 0, 0, 0, 0, 0, 2, 2, 0, 2, 2, 0,\n",
       "       0, 2, 0, 0, 0, 0, 0, 0, 2, 0, 0, 2, 2, 0, 2, 1, 0, 0, 0, 0, 0, 2,\n",
       "       0, 0, 2, 0, 2, 0, 1, 2, 0, 0, 2, 2, 2, 0, 0, 2, 0, 0, 2, 0, 0, 2,\n",
       "       0, 0, 0, 2, 2, 0, 2, 2, 2, 0, 0, 0, 1, 0, 0, 0, 2, 2, 0, 2, 0, 0,\n",
       "       0, 0, 0, 2, 2, 0, 0, 2, 0, 1, 2, 2, 0, 0, 0, 0, 0, 0, 2, 2, 0, 0,\n",
       "       2, 1, 0, 2, 2, 0, 0, 2, 0, 2, 2, 0, 0, 1, 2, 2, 0, 0, 2, 2, 0, 0,\n",
       "       2, 0, 0, 0, 1, 0, 0, 1, 2, 0, 0, 0, 0, 0, 0, 0, 0, 0, 1, 0, 0, 0,\n",
       "       0, 0, 0, 0, 0, 1, 0, 0, 0, 0, 2, 0, 0, 0, 0, 2, 0, 2, 0, 2, 0, 0,\n",
       "       0, 0, 0, 2, 2, 0, 2, 0, 0, 0, 0, 0, 0, 2, 0, 2, 2, 2, 2, 0, 0, 0,\n",
       "       0, 2, 0, 2, 0, 0, 0, 0, 2, 0, 0, 2, 0, 0, 2, 1, 0, 0, 0, 0, 0, 0,\n",
       "       0, 0, 0, 0, 0, 0, 0, 0, 0, 0, 0, 0, 0, 2, 2, 0, 0, 0, 0, 2, 0, 0,\n",
       "       2, 0, 0, 0, 1, 0, 0, 0, 2, 0, 0, 0, 0, 0, 0, 1, 0, 0, 0, 0, 0, 0,\n",
       "       2, 0, 0, 0, 0, 0, 2, 2, 2, 0, 0, 1, 1, 0, 0, 2, 0, 0, 2, 0, 0, 2,\n",
       "       0, 2, 0, 1, 0, 0, 0, 0, 2, 2, 2, 0, 2, 0, 0, 0, 1, 0, 0, 0, 0, 2,\n",
       "       2, 0, 0, 2, 0, 0, 0, 0, 0, 0, 1, 0, 1, 2, 2, 0, 2, 0, 0, 0, 0, 2,\n",
       "       0, 0, 2, 0, 0, 0, 0, 2, 1, 2, 2, 0, 0, 0, 2, 2, 2, 0, 0, 0, 0, 0,\n",
       "       2, 1, 0, 2, 2, 0, 2, 2, 2, 0, 0, 0, 0, 2, 0, 0, 0, 0, 2, 0, 0, 0,\n",
       "       2, 0, 2, 1, 2, 2, 0, 0, 2, 2, 0, 2, 0, 0, 2, 0, 0, 0, 2, 2, 2, 0,\n",
       "       0, 2, 0, 1, 2, 0, 2, 0, 2, 0, 0, 0, 0, 0, 0, 2, 0, 2, 2, 0, 2, 0,\n",
       "       2, 2, 1, 2, 2, 2, 0, 2, 2, 2, 2, 0, 2, 0, 2, 2, 0, 2, 2, 2, 0, 1,\n",
       "       0, 0, 2, 0, 2, 2, 0, 0, 2, 2, 2, 0, 0, 0, 2, 2, 2, 2, 0, 2, 0, 2,\n",
       "       2, 0, 2, 0, 0, 0, 0, 2, 0, 0, 0, 0, 2, 0, 0, 0, 2, 2, 0, 2, 0, 2,\n",
       "       0, 2, 2, 2, 0, 2, 2, 2, 2, 0, 0, 2, 0, 2, 0, 2, 2, 0, 2, 2, 2, 0,\n",
       "       0, 0, 0, 0, 0, 0, 2, 2, 2, 2, 0, 0, 2, 0, 2, 0, 2, 0, 0, 0, 0, 0,\n",
       "       2, 0, 2, 2, 0, 2, 2, 0, 2, 0, 2, 0, 0, 0, 0, 2, 2, 2, 1, 0, 0, 0,\n",
       "       0, 2, 0, 2, 2, 0, 0, 0, 2, 2, 2, 2, 2, 2, 0, 2, 2, 0, 2, 0, 2, 0,\n",
       "       0, 2, 0, 0, 2, 0, 2, 1, 0, 2, 0, 0, 0, 2, 0, 0, 2, 2, 0, 2, 2, 2,\n",
       "       0, 2, 0, 2, 2, 0, 2, 0, 2, 0, 0, 0, 2, 0, 0, 0, 2, 0, 0, 0, 2, 2,\n",
       "       0, 2, 2, 0, 2, 2, 0, 0, 0, 0, 0, 2, 0, 2, 0, 0, 1, 0, 0, 0, 0, 0,\n",
       "       0, 0, 2, 0, 0, 2, 2, 0, 1, 0, 0, 0, 2, 2, 2, 0, 0, 2, 2, 2, 0, 0,\n",
       "       0, 1, 2, 2, 2, 0, 0, 0, 0, 0, 2, 0, 2, 0, 1, 2, 2, 0, 0, 2, 0, 0,\n",
       "       0, 0, 2, 0, 2, 2, 2, 0, 1, 2, 2, 2, 0, 2, 0, 0, 2, 2, 0, 0, 0, 2,\n",
       "       0, 2, 0, 0, 0, 0, 0, 2, 0, 0, 2, 0, 2, 0, 0, 0, 0, 1, 2, 2, 0, 0,\n",
       "       2, 0, 2, 0, 0, 2, 0, 0, 0, 2, 2, 0, 0, 0, 0, 1, 2, 2, 0, 0, 0, 0,\n",
       "       2, 2, 0, 2, 0, 0, 2, 2, 0, 0, 1, 0, 0, 0, 0, 2, 0, 0, 0, 0, 0, 0,\n",
       "       0, 0, 0, 2, 2, 2, 2, 0, 2, 0, 2, 2, 2, 2, 0, 0, 2, 0, 2, 2, 2, 2,\n",
       "       0, 0, 2, 2, 0, 0, 2, 0, 2, 2, 0, 0, 0, 0, 0, 0, 2, 0, 2, 0, 1, 0,\n",
       "       1, 2, 0, 2, 0, 2, 2, 2, 2, 0, 2, 2, 2, 2, 0, 2, 0, 0, 0, 0, 0, 0,\n",
       "       0, 2, 2, 2, 0, 0, 2, 2, 0, 0, 2, 0, 2, 0, 2, 0, 2, 0, 0, 2, 0, 0,\n",
       "       2, 0, 2, 2, 0, 0, 2, 0, 2, 2, 2, 0, 0, 2, 2, 1, 2, 2, 2, 2, 2, 0,\n",
       "       0, 1, 2, 2, 2, 0, 0, 2, 0, 0, 2, 2, 2, 0, 0, 2, 0, 2, 0, 1],\n",
       "      dtype=int32)"
      ]
     },
     "execution_count": 14,
     "metadata": {},
     "output_type": "execute_result"
    }
   ],
   "source": [
    "data.head()\n",
    "model.labels_"
   ]
  },
  {
   "cell_type": "code",
   "execution_count": 16,
   "metadata": {},
   "outputs": [
    {
     "data": {
      "text/html": [
       "<div>\n",
       "<style scoped>\n",
       "    .dataframe tbody tr th:only-of-type {\n",
       "        vertical-align: middle;\n",
       "    }\n",
       "\n",
       "    .dataframe tbody tr th {\n",
       "        vertical-align: top;\n",
       "    }\n",
       "\n",
       "    .dataframe thead th {\n",
       "        text-align: right;\n",
       "    }\n",
       "</style>\n",
       "<table border=\"1\" class=\"dataframe\">\n",
       "  <thead>\n",
       "    <tr style=\"text-align: right;\">\n",
       "      <th></th>\n",
       "      <th>R</th>\n",
       "      <th>F</th>\n",
       "      <th>M</th>\n",
       "      <th>0</th>\n",
       "    </tr>\n",
       "    <tr>\n",
       "      <th>Id</th>\n",
       "      <th></th>\n",
       "      <th></th>\n",
       "      <th></th>\n",
       "      <th></th>\n",
       "    </tr>\n",
       "  </thead>\n",
       "  <tbody>\n",
       "    <tr>\n",
       "      <th>inuc001</th>\n",
       "      <td>21</td>\n",
       "      <td>17</td>\n",
       "      <td>1256.47</td>\n",
       "      <td>2</td>\n",
       "    </tr>\n",
       "    <tr>\n",
       "      <th>inuc002</th>\n",
       "      <td>1</td>\n",
       "      <td>19</td>\n",
       "      <td>1728.84</td>\n",
       "      <td>2</td>\n",
       "    </tr>\n",
       "    <tr>\n",
       "      <th>inuc003</th>\n",
       "      <td>8</td>\n",
       "      <td>4</td>\n",
       "      <td>617.83</td>\n",
       "      <td>0</td>\n",
       "    </tr>\n",
       "    <tr>\n",
       "      <th>inuc004</th>\n",
       "      <td>10</td>\n",
       "      <td>9</td>\n",
       "      <td>1380.94</td>\n",
       "      <td>0</td>\n",
       "    </tr>\n",
       "    <tr>\n",
       "      <th>inuc005</th>\n",
       "      <td>4</td>\n",
       "      <td>3</td>\n",
       "      <td>1783.68</td>\n",
       "      <td>0</td>\n",
       "    </tr>\n",
       "  </tbody>\n",
       "</table>\n",
       "</div>"
      ],
      "text/plain": [
       "          R   F        M  0\n",
       "Id                         \n",
       "inuc001  21  17  1256.47  2\n",
       "inuc002   1  19  1728.84  2\n",
       "inuc003   8   4   617.83  0\n",
       "inuc004  10   9  1380.94  0\n",
       "inuc005   4   3  1783.68  0"
      ]
     },
     "execution_count": 16,
     "metadata": {},
     "output_type": "execute_result"
    },
    {
     "data": {
      "text/html": [
       "<div>\n",
       "<style scoped>\n",
       "    .dataframe tbody tr th:only-of-type {\n",
       "        vertical-align: middle;\n",
       "    }\n",
       "\n",
       "    .dataframe tbody tr th {\n",
       "        vertical-align: top;\n",
       "    }\n",
       "\n",
       "    .dataframe thead th {\n",
       "        text-align: right;\n",
       "    }\n",
       "</style>\n",
       "<table border=\"1\" class=\"dataframe\">\n",
       "  <thead>\n",
       "    <tr style=\"text-align: right;\">\n",
       "      <th></th>\n",
       "      <th>R</th>\n",
       "      <th>F</th>\n",
       "      <th>M</th>\n",
       "      <th>聚类类别</th>\n",
       "    </tr>\n",
       "    <tr>\n",
       "      <th>Id</th>\n",
       "      <th></th>\n",
       "      <th></th>\n",
       "      <th></th>\n",
       "      <th></th>\n",
       "    </tr>\n",
       "  </thead>\n",
       "  <tbody>\n",
       "    <tr>\n",
       "      <th>inuc001</th>\n",
       "      <td>21</td>\n",
       "      <td>17</td>\n",
       "      <td>1256.47</td>\n",
       "      <td>2</td>\n",
       "    </tr>\n",
       "    <tr>\n",
       "      <th>inuc002</th>\n",
       "      <td>1</td>\n",
       "      <td>19</td>\n",
       "      <td>1728.84</td>\n",
       "      <td>2</td>\n",
       "    </tr>\n",
       "    <tr>\n",
       "      <th>inuc003</th>\n",
       "      <td>8</td>\n",
       "      <td>4</td>\n",
       "      <td>617.83</td>\n",
       "      <td>0</td>\n",
       "    </tr>\n",
       "    <tr>\n",
       "      <th>inuc004</th>\n",
       "      <td>10</td>\n",
       "      <td>9</td>\n",
       "      <td>1380.94</td>\n",
       "      <td>0</td>\n",
       "    </tr>\n",
       "    <tr>\n",
       "      <th>inuc005</th>\n",
       "      <td>4</td>\n",
       "      <td>3</td>\n",
       "      <td>1783.68</td>\n",
       "      <td>0</td>\n",
       "    </tr>\n",
       "  </tbody>\n",
       "</table>\n",
       "</div>"
      ],
      "text/plain": [
       "          R   F        M  聚类类别\n",
       "Id                            \n",
       "inuc001  21  17  1256.47     2\n",
       "inuc002   1  19  1728.84     2\n",
       "inuc003   8   4   617.83     0\n",
       "inuc004  10   9  1380.94     0\n",
       "inuc005   4   3  1783.68     0"
      ]
     },
     "execution_count": 16,
     "metadata": {},
     "output_type": "execute_result"
    }
   ],
   "source": [
    "#详细输出原始数据及其类别\n",
    "r=pd.concat([data,pd.Series(model.labels_,index=data.index)],axis=1)\n",
    "\n",
    "r.head()\n",
    "#详细输出每个样本对应的类别\n",
    "r.columns=list(data.columns)+[u'聚类类别']  #重命名表头\n",
    "r.to_excel(outputfile)  #保存结果\n",
    "r.head()"
   ]
  },
  {
   "cell_type": "code",
   "execution_count": 44,
   "metadata": {},
   "outputs": [],
   "source": []
  },
  {
   "cell_type": "code",
   "execution_count": 18,
   "metadata": {},
   "outputs": [
    {
     "data": {
      "image/png": "[encoded data removed]",
      "text/plain": [
       "<Figure size 432x288 with 3 Axes>"
      ]
     },
     "metadata": {
      "needs_background": "light"
     },
     "output_type": "display_data"
    },
    {
     "data": {
      "image/png": "[encoded data removed]",
      "text/plain": [
       "<Figure size 432x288 with 3 Axes>"
      ]
     },
     "metadata": {
      "needs_background": "light"
     },
     "output_type": "display_data"
    },
    {
     "data": {
      "image/png": "[encoded data removed]",
      "text/plain": [
       "<Figure size 432x288 with 3 Axes>"
      ]
     },
     "metadata": {
      "needs_background": "light"
     },
     "output_type": "display_data"
    }
   ],
   "source": [
    "#自定义作图函数\n",
    "def density_plot(data):\n",
    "    import matplotlib.pyplot as plt\n",
    "\n",
    "    plt.rcParams['font.family'] ='Arial Unicode MS' #mac版设置支持中文字体显示\n",
    "    plt.rcParams['axes.unicode_minus'] = False      #正常显示负号\n",
    "    p=data.plot(kind='kde',linewidth=2,subplots=True,sharex=False)\n",
    "    [p[i].set_ylabel(u'密度') for i in range(k)]\n",
    "    plt.legend()#显示图中的标签\n",
    "    \n",
    "    return plt\n",
    "\n",
    "pic_output=r'pd_'  #概率密度图文件名前缀\n",
    "for i in range(k):\n",
    "    density_plot(data[r[u'聚类类别']==i]).savefig(u'%s%s.png' %(pic_output,i))"
   ]
  },
  {
   "cell_type": "code",
   "execution_count": null,
   "metadata": {},
   "outputs": [],
   "source": []
  }
 ],
 "metadata": {
  "kernelspec": {
   "display_name": "Python 3",
   "language": "python",
   "name": "python3"
  },
  "language_info": {
   "codemirror_mode": {
    "name": "ipython",
    "version": 3
   },
   "file_extension": ".py",
   "mimetype": "text/x-python",
   "name": "python",
   "nbconvert_exporter": "python",
   "pygments_lexer": "ipython3",
   "version": "3.6.6"
  }
 },
 "nbformat": 4,
 "nbformat_minor": 2
}
